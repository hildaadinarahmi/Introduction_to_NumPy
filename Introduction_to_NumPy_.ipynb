{
  "cells": [
    {
      "cell_type": "code",
      "execution_count": null,
      "metadata": {
        "colab": {
          "base_uri": "https://localhost:8080/"
        },
        "id": "WPNlUSSf5p2Q",
        "outputId": "b05bc8b4-6984-4ad8-a041-4cd5a5405e6a"
      },
      "outputs": [
        {
          "name": "stdout",
          "output_type": "stream",
          "text": [
            "Requirement already satisfied: numpy in /usr/local/lib/python3.10/dist-packages (1.26.4)\n"
          ]
        }
      ],
      "source": [
        "!pip install numpy"
      ]
    },
    {
      "cell_type": "code",
      "execution_count": null,
      "metadata": {
        "id": "9lFXZL6l517F"
      },
      "outputs": [],
      "source": [
        "import numpy as np"
      ]
    },
    {
      "cell_type": "markdown",
      "metadata": {
        "id": "MmUWCEeY8wJ4"
      },
      "source": [
        "**Introduction to** **NumPy**"
      ]
    },
    {
      "cell_type": "markdown",
      "metadata": {
        "id": "RLCsPBoJ9DKj"
      },
      "source": [
        "# Import Numpy"
      ]
    },
    {
      "cell_type": "code",
      "execution_count": null,
      "metadata": {
        "colab": {
          "base_uri": "https://localhost:8080/"
        },
        "id": "3NLZ7Hch9HMJ",
        "outputId": "b83821a0-7708-4412-f358-bc07bb2bfb9f"
      },
      "outputs": [
        {
          "name": "stdout",
          "output_type": "stream",
          "text": [
            "Vector:\n",
            "[1 2 3]\n",
            "\n",
            "\n",
            "Matrix:\n",
            "[[1 2 3]\n",
            " [4 5 6]]\n",
            "\n",
            "\n",
            "Tensor:\n",
            "[[[ 1  2]\n",
            "  [ 3  4]]\n",
            "\n",
            " [[ 5  6]\n",
            "  [ 7  8]]\n",
            "\n",
            " [[ 9 10]\n",
            "  [11 12]]]\n"
          ]
        }
      ],
      "source": [
        "#Declare Array\n",
        "a = np.array([1,2,3]) #Vector\n",
        "b = np.array([[1,2,3],[4,5,6]]) #Matrix\n",
        "c = np.array([[[1,2],[3,4]], [[5,6],[7,8]],[[9,10], [11,12]]]) #Tensor 3 Matrix, 6 Vector\n",
        "print(\"Vector:\")\n",
        "print(a)\n",
        "print(\"\\n\") #Print newline atau enter\n",
        "print(\"Matrix:\")\n",
        "print(b)\n",
        "print(\"\\n\") #Print newline atau enter\n",
        "print(\"Tensor:\")\n",
        "print(c)"
      ]
    },
    {
      "cell_type": "code",
      "execution_count": null,
      "metadata": {
        "colab": {
          "base_uri": "https://localhost:8080/"
        },
        "id": "KxOHv59t-u1n",
        "outputId": "d628b5db-2857-4cad-cbff-ba6e599a3490"
      },
      "outputs": [
        {
          "name": "stdout",
          "output_type": "stream",
          "text": [
            "(3,)\n",
            "(2, 3)\n",
            "(3, 2, 2)\n"
          ]
        }
      ],
      "source": [
        "#Menentukan bentuk dari sebuah vector/matrix/tensor\n",
        "vec_shape = np.shape(a)\n",
        "mat_shape = np.shape(b)\n",
        "tensor_shape = np.shape(c)\n",
        "print(vec_shape)\n",
        "print(mat_shape)\n",
        "print(tensor_shape)"
      ]
    },
    {
      "cell_type": "code",
      "execution_count": null,
      "metadata": {
        "colab": {
          "base_uri": "https://localhost:8080/"
        },
        "id": "wpn2sby__HRu",
        "outputId": "bea1ca7f-08fd-4108-8dcd-509aa2e10f81"
      },
      "outputs": [
        {
          "name": "stdout",
          "output_type": "stream",
          "text": [
            "(3,)\n",
            "(2, 3)\n",
            "(3, 2, 2)\n"
          ]
        }
      ],
      "source": [
        "#Cara lain untuk melihat shape\n",
        "print(a.shape)\n",
        "print(b.shape)\n",
        "print(c.shape)"
      ]
    },
    {
      "cell_type": "code",
      "execution_count": null,
      "metadata": {
        "colab": {
          "base_uri": "https://localhost:8080/"
        },
        "id": "at4gZwlR_Nk0",
        "outputId": "a9a6f1fb-754c-48a7-b808-bff427976733"
      },
      "outputs": [
        {
          "data": {
            "text/plain": [
              "array([[1, 2, 3],\n",
              "       [4, 5, 6]])"
            ]
          },
          "execution_count": 8,
          "metadata": {},
          "output_type": "execute_result"
        }
      ],
      "source": [
        "#Mau mengambil elemen yang spesifik (r,c)\n",
        "b"
      ]
    },
    {
      "cell_type": "code",
      "execution_count": null,
      "metadata": {
        "colab": {
          "base_uri": "https://localhost:8080/"
        },
        "id": "w8pSlBKn_amx",
        "outputId": "cf347767-f815-4e4d-ec48-1d029302df02"
      },
      "outputs": [
        {
          "name": "stdout",
          "output_type": "stream",
          "text": [
            "[[1 2 3]\n",
            " [4 5 6]]\n",
            "5\n"
          ]
        }
      ],
      "source": [
        "print(b)\n",
        "print(b[1,1]) #Mengambil elemen nomor 5 (1,1)indeksnya"
      ]
    },
    {
      "cell_type": "code",
      "execution_count": null,
      "metadata": {
        "colab": {
          "base_uri": "https://localhost:8080/"
        },
        "id": "gpkY0WMu_nSZ",
        "outputId": "5ebe3dae-4034-4891-d5d7-2ed47b9d3ca4"
      },
      "outputs": [
        {
          "name": "stdout",
          "output_type": "stream",
          "text": [
            "[2 5]\n"
          ]
        }
      ],
      "source": [
        "#Mengambil kolom saja\n",
        "print(b[:,1])"
      ]
    },
    {
      "cell_type": "code",
      "execution_count": null,
      "metadata": {
        "colab": {
          "base_uri": "https://localhost:8080/"
        },
        "id": "y0P5U253_vXL",
        "outputId": "19399d4a-699a-4f94-fd37-f4e3ac61a032"
      },
      "outputs": [
        {
          "name": "stdout",
          "output_type": "stream",
          "text": [
            "[[ 1  2  3]\n",
            " [ 4 12  6]]\n"
          ]
        }
      ],
      "source": [
        "#Mau menganti value dalam 2-D Array / Matrix\n",
        "b[1,1] = 12\n",
        "print(b)"
      ]
    },
    {
      "cell_type": "markdown",
      "metadata": {
        "id": "bnKnKNkY_7Nh"
      },
      "source": [
        "#Numpy Array types"
      ]
    },
    {
      "cell_type": "markdown",
      "metadata": {
        "id": "47QfsO5XAAMV"
      },
      "source": [
        "##1.Numpy Array"
      ]
    },
    {
      "cell_type": "code",
      "execution_count": null,
      "metadata": {
        "id": "fnimTMaIAPoY"
      },
      "outputs": [],
      "source": [
        "a_2 = np.array([4,5,6]) #Vector\n",
        "b_2 = np.array([[11,12,13],[14,15,16]]) #Matrix"
      ]
    },
    {
      "cell_type": "code",
      "execution_count": null,
      "metadata": {
        "colab": {
          "base_uri": "https://localhost:8080/"
        },
        "id": "jm33WZ1oAg1q",
        "outputId": "8b2f4d81-b387-4cea-fd61-42fe8c450b7d"
      },
      "outputs": [
        {
          "name": "stdout",
          "output_type": "stream",
          "text": [
            "[4 5 6]\n",
            "[[11 12 13]\n",
            " [14 15 16]]\n"
          ]
        }
      ],
      "source": [
        "print(a_2)\n",
        "print(b_2)"
      ]
    },
    {
      "cell_type": "markdown",
      "metadata": {
        "id": "ikcI1_22Apa2"
      },
      "source": [
        "##2.Numpy Arange"
      ]
    },
    {
      "cell_type": "code",
      "execution_count": null,
      "metadata": {
        "colab": {
          "base_uri": "https://localhost:8080/"
        },
        "id": "oKlYxqNLAtaQ",
        "outputId": "84c1a10d-3d0f-43c7-acd2-d0739c69774e"
      },
      "outputs": [
        {
          "name": "stdout",
          "output_type": "stream",
          "text": [
            "[0 1 2 3 4 5 6 7]\n",
            "[1 2 3 4 5 6 7]\n",
            "[ 1  4  7 10]\n"
          ]
        }
      ],
      "source": [
        "#Function untuk mendefinisikan nilai-nilai yang berjarak sama dalam interval yang ditentukan dalam array tsb\n",
        "ar = np.arange(8)\n",
        "print(ar)\n",
        "ar2 = np.arange(1,8) #Start dan stop\n",
        "print(ar2)\n",
        "ar3 = np.arange(1,12,3) #Start, stop dan step\n",
        "print(ar3)"
      ]
    },
    {
      "cell_type": "markdown",
      "metadata": {
        "id": "sGEsxcjoBP5M"
      },
      "source": [
        "##3.Numpy zeros"
      ]
    },
    {
      "cell_type": "code",
      "execution_count": null,
      "metadata": {
        "colab": {
          "base_uri": "https://localhost:8080/"
        },
        "id": "DznJnlc8BS5_",
        "outputId": "7f6b4594-3fd7-4ce9-fdca-44ce92f793fd"
      },
      "outputs": [
        {
          "name": "stdout",
          "output_type": "stream",
          "text": [
            "[0. 0. 0. 0. 0.]\n",
            "[[0 0 0 0 0]\n",
            " [0 0 0 0 0]\n",
            " [0 0 0 0 0]\n",
            " [0 0 0 0 0]\n",
            " [0 0 0 0 0]]\n"
          ]
        }
      ],
      "source": [
        "#Function untuk menampilkan array baru dengan ukuran tertentu dan berisi 0\n",
        "#defaultnya dtype adalah float\n",
        "zeroes = np.zeros(5)\n",
        "print(zeroes)\n",
        "z2 = np.zeros((5,5), dtype = int)\n",
        "print(z2)\n"
      ]
    },
    {
      "cell_type": "markdown",
      "metadata": {
        "id": "xe6ZcKiyBwv7"
      },
      "source": [
        "##4.Numpy Ones"
      ]
    },
    {
      "cell_type": "code",
      "execution_count": null,
      "metadata": {
        "colab": {
          "base_uri": "https://localhost:8080/"
        },
        "id": "VGKw_fGWBzOV",
        "outputId": "14bdf3a7-aaaf-4147-b33a-857b13035c59"
      },
      "outputs": [
        {
          "name": "stdout",
          "output_type": "stream",
          "text": [
            "[1. 1. 1. 1. 1.]\n",
            "[[1 1 1 1]\n",
            " [1 1 1 1]\n",
            " [1 1 1 1]]\n"
          ]
        }
      ],
      "source": [
        "#Function untuk menampilkan array baru dengan ukuran tertentu dan berisi 1\n",
        "#defaultnya dtype adalah float\n",
        "ones = np.ones(5)\n",
        "print(ones)\n",
        "one_2 = np.ones ((3,4), dtype = int)\n",
        "print(one_2)"
      ]
    },
    {
      "cell_type": "markdown",
      "metadata": {
        "id": "2kupO0U_Pq8k"
      },
      "source": [
        "#Manipulasi Array"
      ]
    },
    {
      "cell_type": "markdown",
      "metadata": {
        "id": "9-O7M5gLPtF6"
      },
      "source": [
        "##1.Reshape"
      ]
    },
    {
      "cell_type": "code",
      "execution_count": null,
      "metadata": {
        "colab": {
          "base_uri": "https://localhost:8080/"
        },
        "id": "wyXa1X_bPwdT",
        "outputId": "11f0f839-2b11-47af-f0d7-06c3fc59c5d0"
      },
      "outputs": [
        {
          "name": "stdout",
          "output_type": "stream",
          "text": [
            "[ 1  2  3  4  5  6  7  8  9 10 11 12]\n",
            "[[ 1  2  3  4]\n",
            " [ 5  6  7  8]\n",
            " [ 9 10 11 12]]\n",
            "[[ 1  2  3  4]\n",
            " [ 5  6  7  8]\n",
            " [ 9 10 11 12]]\n"
          ]
        }
      ],
      "source": [
        "a = np.arange(1,13)\n",
        "print(a)\n",
        "\n",
        "#array diatas akan di re-shape menjadi matrix ordo 3x4\n",
        "#Cara 1\n",
        "b = np.reshape(a, (3,4))\n",
        "print(b)\n",
        "\n",
        "#Cara 2\n",
        "b = a.reshape(3,4)\n",
        "print(b)"
      ]
    },
    {
      "cell_type": "markdown",
      "metadata": {
        "id": "j-ICB-6XQIOf"
      },
      "source": [
        "##2.Flatten"
      ]
    },
    {
      "cell_type": "code",
      "execution_count": null,
      "metadata": {
        "colab": {
          "base_uri": "https://localhost:8080/"
        },
        "id": "xkcYST2rQKbJ",
        "outputId": "1c5c0b3a-7a86-448d-f381-b67549102948"
      },
      "outputs": [
        {
          "name": "stdout",
          "output_type": "stream",
          "text": [
            "[ 1  2  3  4  5  6  7  8  9 10 11 12]\n",
            "[ 1  2  3  4  5  6  7  8  9 10 11 12]\n"
          ]
        }
      ],
      "source": [
        "#Array kita kembalikan menjadi bentuk 1-D Array\n",
        "#Cara 1\n",
        "c = np.array(b).flatten()\n",
        "print(c)\n",
        "\n",
        "#Cara 2\n",
        "c = b.flatten()\n",
        "print(c)"
      ]
    },
    {
      "cell_type": "markdown",
      "metadata": {
        "id": "gb7rGzFzQenN"
      },
      "source": [
        "##3.Transpose"
      ]
    },
    {
      "cell_type": "code",
      "execution_count": null,
      "metadata": {
        "colab": {
          "base_uri": "https://localhost:8080/"
        },
        "id": "eAH261h0QhJ7",
        "outputId": "18f4ec4d-7e75-4358-8abc-a42971d29ef4"
      },
      "outputs": [
        {
          "name": "stdout",
          "output_type": "stream",
          "text": [
            "[[ 1  5  9]\n",
            " [ 2  6 10]\n",
            " [ 3  7 11]\n",
            " [ 4  8 12]]\n",
            "[[ 1  5  9]\n",
            " [ 2  6 10]\n",
            " [ 3  7 11]\n",
            " [ 4  8 12]]\n"
          ]
        }
      ],
      "source": [
        "#Cara 1\n",
        "TransMat = np.array(b).transpose()\n",
        "print(TransMat)\n",
        "\n",
        "\n",
        "#Cara 2\n",
        "TransMat = b.transpose()\n",
        "print(TransMat)"
      ]
    },
    {
      "cell_type": "markdown",
      "metadata": {
        "id": "wi-54vvaREZ9"
      },
      "source": [
        "**Axis / Axes**\n",
        "digunakan untuk array yang lbh dari 1 dimensi"
      ]
    },
    {
      "cell_type": "markdown",
      "metadata": {
        "id": "LosXX7u2ROP7"
      },
      "source": [
        "##4.Concatenate"
      ]
    },
    {
      "cell_type": "code",
      "execution_count": null,
      "metadata": {
        "colab": {
          "base_uri": "https://localhost:8080/"
        },
        "id": "9t40ftiRRQkS",
        "outputId": "2732d398-f6ea-4208-cd65-aebe11db2a1b"
      },
      "outputs": [
        {
          "name": "stdout",
          "output_type": "stream",
          "text": [
            "Concatenate 2 Matrix dalam Axis 0:\n",
            "[[ 1  2  3]\n",
            " [ 4  5  6]\n",
            " [21 22 23]\n",
            " [24 25 26]\n",
            " [27 28 29]]\n",
            "\n",
            "Concatenate 2 Matrix dalam Axis 1:\n",
            "[[ 1  2  3 21 22 23]\n",
            " [ 4  5  6 24 25 26]\n",
            " [ 0  0  0 27 28 29]]\n"
          ]
        }
      ],
      "source": [
        "\n",
        "\n",
        "Arr1 = np.array([[1, 2, 3], [4, 5, 6]])\n",
        "Arr2 = np.array([[21, 22, 23], [24, 25, 26], [27, 28, 29]])\n",
        "\n",
        "# Menambahkan baris kosong ke Arr1 dengan tipe data integer\n",
        "Arr1_padded = np.vstack((Arr1, np.zeros((1, Arr1.shape[1]), dtype=int)))  # Menambahkan satu baris kosong\n",
        "\n",
        "# Concatenate dalam Axis 0\n",
        "print(\"Concatenate 2 Matrix dalam Axis 0:\")\n",
        "print(np.concatenate((Arr1, Arr2)))\n",
        "\n",
        "# Concatenate dalam Axis 1\n",
        "print(\"\\nConcatenate 2 Matrix dalam Axis 1:\")\n",
        "result = np.concatenate((Arr1_padded, Arr2), axis=1)\n",
        "print(result)"
      ]
    },
    {
      "cell_type": "code",
      "execution_count": null,
      "metadata": {
        "colab": {
          "base_uri": "https://localhost:8080/"
        },
        "id": "IwNhmTaCnn2c",
        "outputId": "f74bc708-3ac0-4b49-e6cc-26bd2481e0ac"
      },
      "outputs": [
        {
          "name": "stdout",
          "output_type": "stream",
          "text": [
            "Concatenate 2 Matrix dalam Axis 0:\n",
            "[[ 1  2  3]\n",
            " [ 4  5  6]\n",
            " [ 7  8  9]\n",
            " [21 22 23]\n",
            " [24 25 26]\n",
            " [27 28 29]]\n",
            "\n",
            "Concatenate 2 Matrix dalam Axis 1:\n",
            "[[ 1  2  3 21 22 23]\n",
            " [ 4  5  6 24 25 26]\n",
            " [ 7  8  9 27 28 29]]\n"
          ]
        }
      ],
      "source": [
        "Arr1 = np.array([[1, 2, 3], [4, 5, 6], [7,8,9]])\n",
        "Arr2 = np.array([[21, 22, 23], [24, 25, 26], [27, 28, 29]])\n",
        "\n",
        "\n",
        "# Concatenate dalam Axis 0\n",
        "print(\"Concatenate 2 Matrix dalam Axis 0:\")\n",
        "print(np.concatenate((Arr1, Arr2)))\n",
        "\n",
        "# Concatenate dalam Axis 1\n",
        "print(\"\\nConcatenate 2 Matrix dalam Axis 1:\")\n",
        "print (np.concatenate((Arr1, Arr2), axis=1))"
      ]
    },
    {
      "cell_type": "markdown",
      "metadata": {
        "id": "YNFIzpmsV_au"
      },
      "source": [
        "##5.Stack"
      ]
    },
    {
      "cell_type": "code",
      "execution_count": null,
      "metadata": {
        "colab": {
          "base_uri": "https://localhost:8080/"
        },
        "id": "PVZPWNgRmwns",
        "outputId": "b53c2300-1d8a-47f7-8ada-9dc4e5f30bbd"
      },
      "outputs": [
        {
          "name": "stdout",
          "output_type": "stream",
          "text": [
            "Stack 2 Array dalam Axis 0:\n",
            "[[[1 2 3]\n",
            "  [4 5 6]\n",
            "  [7 8 9]]\n",
            "\n",
            " [[1 2 3]\n",
            "  [4 5 6]\n",
            "  [7 8 9]]]\n",
            "Stack 2 Array dalam Axis 1:\n",
            "[[[ 1  2  3]\n",
            "  [21 22 23]]\n",
            "\n",
            " [[ 4  5  6]\n",
            "  [24 25 26]]\n",
            "\n",
            " [[ 7  8  9]\n",
            "  [27 28 29]]]\n"
          ]
        }
      ],
      "source": [
        "Arr1 = np.array([[1, 2, 3], [4, 5, 6], [7,8,9]])\n",
        "Arr2 = np.array([[21, 22, 23], [24, 25, 26], [27, 28, 29]])\n",
        "\n",
        "#Stack dalam Axis 0\n",
        "print(\"Stack 2 Array dalam Axis 0:\")\n",
        "print(np.stack((Arr1, Arr1), axis=0))\n",
        "\n",
        "\n",
        "#stack dalam Axis 1\n",
        "print(\"Stack 2 Array dalam Axis 1:\")\n",
        "print(np.stack((Arr1, Arr2), axis=1))"
      ]
    },
    {
      "cell_type": "markdown",
      "metadata": {
        "id": "ZOzl3LKVsoc8"
      },
      "source": [
        "##6.Split"
      ]
    },
    {
      "cell_type": "code",
      "execution_count": null,
      "metadata": {
        "colab": {
          "base_uri": "https://localhost:8080/"
        },
        "id": "MWJifYUAstF6",
        "outputId": "4704738f-0a4a-402a-f9f6-6d2f5b4821d0"
      },
      "outputs": [
        {
          "name": "stdout",
          "output_type": "stream",
          "text": [
            "[array([5, 2, 3]), array([4, 8, 7]), array([5, 1, 2])]\n",
            "[array([5]), array([2, 3]), array([4, 8]), array([7, 5, 1, 2])]\n"
          ]
        }
      ],
      "source": [
        "import numpy as np\n",
        "SplitArr = np.array([5,2,3,4,8,7,5,1,2])\n",
        "#Split array menjadi 3 subarrays yang sama jumlahnya\n",
        "SplitMat = np.split(SplitArr,3)\n",
        "print(SplitMat)\n",
        "\n",
        "#Split array di posisi index yang ditunjuk sesuai dengan 1-D array:\n",
        "SplitMat2 = np.split(SplitArr,[1,3,5])\n",
        "print(SplitMat2)"
      ]
    },
    {
      "cell_type": "markdown",
      "metadata": {
        "id": "nu6wgOgnaO0D"
      },
      "source": [
        "##7.Resize"
      ]
    },
    {
      "cell_type": "code",
      "execution_count": null,
      "metadata": {
        "colab": {
          "base_uri": "https://localhost:8080/"
        },
        "id": "ejqx_oxxaRkh",
        "outputId": "5951372d-da2d-4e11-ad13-d56c0e83ecc4"
      },
      "outputs": [
        {
          "name": "stdout",
          "output_type": "stream",
          "text": [
            "[[1 2 3 4 5]\n",
            " [6 1 2 3 4]\n",
            " [5 6 1 2 3]]\n"
          ]
        }
      ],
      "source": [
        "import numpy as np\n",
        "#Mengubah size array, kalau size lebih besar makan terdapat salinan values\n",
        "# Membuat array awal\n",
        "ResizeArr = np.array([[1, 2, 3], [4, 5, 6]])\n",
        "\n",
        "# Mengubah ukuran array menggunakan np.resize\n",
        "ResizeMat = np.resize(ResizeArr, (3, 5))\n",
        "print(ResizeMat)"
      ]
    },
    {
      "cell_type": "markdown",
      "metadata": {
        "id": "pTeoxE-gbgaU"
      },
      "source": [
        "##8.Append"
      ]
    },
    {
      "cell_type": "code",
      "execution_count": null,
      "metadata": {
        "colab": {
          "base_uri": "https://localhost:8080/"
        },
        "id": "7H23t0FzbibU",
        "outputId": "c29e9580-81c3-4387-e1c5-9aa711bb4d88"
      },
      "outputs": [
        {
          "name": "stdout",
          "output_type": "stream",
          "text": [
            "[1 2 3 4 5 6 7 8 9]\n",
            "\n",
            " [[1 2 3]\n",
            " [4 5 6]\n",
            " [7 8 9]]\n",
            "\n",
            " [[ 1  2  3  7  8  9]\n",
            " [ 4  5  6 10 11 12]]\n"
          ]
        }
      ],
      "source": [
        "InAppend = np.array([[1,2,3],[4,5,6]])\n",
        "\n",
        "#Menggabungkan Array tanpa axis (1-D array)\n",
        "Append1 = np.append (InAppend, [7,8,9])\n",
        "print(Append1)\n",
        "\n",
        "#Menggabungkan Array dalam axis 0\n",
        "Append2 = np.append(InAppend, [[7,8,9]], axis = 0)\n",
        "print(\"\\n\", Append2)\n",
        "\n",
        "#Menggabungkan Array dalam axis 1\n",
        "Append3 = np.append(InAppend, [[7,8,9], [10,11,12]], axis = 1)\n",
        "print(\"\\n\", Append3)"
      ]
    },
    {
      "cell_type": "markdown",
      "metadata": {
        "id": "ZVrBq0CedODv"
      },
      "source": [
        "##9.Insert"
      ]
    },
    {
      "cell_type": "code",
      "execution_count": null,
      "metadata": {
        "colab": {
          "base_uri": "https://localhost:8080/"
        },
        "id": "9BJgI0fidRUV",
        "outputId": "8d81c7ac-8d03-4f9a-b4fe-633e44fc7ccd"
      },
      "outputs": [
        {
          "name": "stdout",
          "output_type": "stream",
          "text": [
            "[ 1  2 11 12  3  4  5  6]\n",
            "\n",
            " [[ 1  2]\n",
            " [ 3  4]\n",
            " [11 12]\n",
            " [ 5  6]]\n",
            "\n",
            " [[ 1  2 11]\n",
            " [ 3  4 12]\n",
            " [ 5  6 13]]\n"
          ]
        }
      ],
      "source": [
        "InArray = np.array([[1,2],[3,4],[5,6]])\n",
        "\n",
        "#Insert tanpa axis, array akan di flatten (1-D Array)\n",
        "Insert1 = np.insert(InArray, 2, [11,12])\n",
        "print(Insert1)\n",
        "\n",
        "#Insert Axis 0\n",
        "Insert2 = np.insert(InArray, 2, [11,12], axis = 0)\n",
        "print(\"\\n\", Insert2)\n",
        "\n",
        "#Insert Axis 1\n",
        "Insert3 = np.insert(InArray, 2, [11,12,13], axis = 1)\n",
        "print(\"\\n\", Insert3)"
      ]
    },
    {
      "cell_type": "markdown",
      "metadata": {
        "id": "uhGAr214eWAy"
      },
      "source": [
        "##10.Delete"
      ]
    },
    {
      "cell_type": "code",
      "execution_count": null,
      "metadata": {
        "colab": {
          "base_uri": "https://localhost:8080/"
        },
        "id": "JSxgicuVeXdg",
        "outputId": "d2a3f69b-257a-413a-af8e-fd92d3b6404c"
      },
      "outputs": [
        {
          "name": "stdout",
          "output_type": "stream",
          "text": [
            "[[1 2 3 4]\n",
            " [5 6 7 8]]\n",
            "[[1 2 3 4]\n",
            " [5 6 7 8]]\n",
            "\n",
            "\n",
            "[1 2 4 5 6 7 8]\n",
            "\n",
            " [[5 6 7 8]]\n",
            "\n",
            " [[1 3 4]\n",
            " [5 7 8]]\n"
          ]
        }
      ],
      "source": [
        "import numpy as np\n",
        "\n",
        "# Membuat array dengan angka dari 1 hingga 8\n",
        "InDel = np.array([[1, 2, 3, 4], [5, 6, 7, 8]])\n",
        "print(InDel)\n",
        "\n",
        "# Atau menggunakan np.arange untuk membuat array dari 1 hingga 8\n",
        "InDel = np.arange(1, 9).reshape(2, 4)\n",
        "print(InDel)\n",
        "\n",
        "#Delete tanpa axis, flatten ke 1-D Array\n",
        "print(\"\\n\")\n",
        "Delete1 = np.delete(InDel, 2)\n",
        "print(Delete1)\n",
        "\n",
        "#Deleter dalam axis 0, Row ke-1 atau indeks 0 kehapus\n",
        "Delete2 = np.delete(InDel,0, axis = 0)\n",
        "print(\"\\n\", Delete2)\n",
        "\n",
        "#Deleter dalam axis 1, Column kehapus\n",
        "Delete3 = np.delete(InDel,1, axis = 1)\n",
        "print(\"\\n\", Delete3)\n"
      ]
    },
    {
      "cell_type": "markdown",
      "metadata": {
        "id": "D0cUKPeQmdan"
      },
      "source": [
        "##11.Unique"
      ]
    },
    {
      "cell_type": "code",
      "execution_count": null,
      "metadata": {
        "colab": {
          "base_uri": "https://localhost:8080/"
        },
        "id": "mr2_Pfs5mfgv",
        "outputId": "1752c159-6a6f-4d30-82db-25c19ec80ec8"
      },
      "outputs": [
        {
          "name": "stdout",
          "output_type": "stream",
          "text": [
            "[5 2 6 3 4 7 5 8 2 2 6 8]\n",
            "\n",
            " Value yang unik dari array:\n",
            "[2 3 4 5 6 7 8]\n",
            "\n",
            " Ada berapa value unik dalam array:\n",
            "[2 3 4 5 6 7 8]\n",
            "[3 1 1 2 2 1 2]\n"
          ]
        }
      ],
      "source": [
        "InUnique = np.array([5,2,6,3,4,7,5,8,2,2,6,8])\n",
        "print(InUnique)\n",
        "\n",
        "#Value yang unik dari array:\n",
        "Unique1 = np.unique(InUnique)  # Mengganti no dengan np\n",
        "print(\"\\n Value yang unik dari array:\")\n",
        "print(Unique1)\n",
        "\n",
        "#Ada berapa value unik dalam array:\n",
        "Unique2, indices = np.unique(InUnique, return_counts = True)\n",
        "print(\"\\n Ada berapa value unik dalam array:\")\n",
        "print(Unique2)\n",
        "print(indices)"
      ]
    },
    {
      "cell_type": "markdown",
      "metadata": {
        "id": "0qsU0nkMnxMo"
      },
      "source": [
        "##12.Slice"
      ]
    },
    {
      "cell_type": "code",
      "execution_count": null,
      "metadata": {
        "colab": {
          "base_uri": "https://localhost:8080/"
        },
        "id": "qPuV5dpGnzUk",
        "outputId": "402ac9e3-0625-4c9b-c5f8-8f4511b18e5f"
      },
      "outputs": [
        {
          "name": "stdout",
          "output_type": "stream",
          "text": [
            "[0 1 2 3 4 5 6 7 8 9]\n",
            "\n",
            " Slicing satu elemen:\n",
            "2\n",
            "\n",
            " Slicing mulai dari indeks sekian:\n",
            "[2 3 4]\n",
            "\n",
            " Slicing stop di indeks sekian:\n",
            "[0 1 2 3 4]\n",
            "\n",
            " Slicing antara indeks-indeks sekian:\n",
            "[2 3 4]\n"
          ]
        }
      ],
      "source": [
        "InSlice = np.arange(10)\n",
        "print(InSlice)\n",
        "\n",
        "#Slicing satu elemen\n",
        "s2 = InSlice[2]\n",
        "print(\"\\n Slicing satu elemen:\")\n",
        "print(s2)\n",
        "\n",
        "#Slicing mulai dari indeks sekian.....\n",
        "s3 = InSlice[2:5]\n",
        "print(\"\\n Slicing mulai dari indeks sekian:\")\n",
        "print(s3)\n",
        "\n",
        "#Slicing stop dari indeks sekian.....\n",
        "s4 = InSlice[:5]\n",
        "print(\"\\n Slicing stop di indeks sekian:\")\n",
        "print(s4)\n",
        "\n",
        "#Slicing stop dari indeks sekian.....\n",
        "s5 = InSlice[2:5]\n",
        "print(\"\\n Slicing antara indeks-indeks sekian:\")\n",
        "print(s5)"
      ]
    },
    {
      "cell_type": "code",
      "execution_count": null,
      "metadata": {
        "colab": {
          "background_save": true,
          "base_uri": "https://localhost:8080/"
        },
        "id": "B-h1OHcco4uP",
        "outputId": "79144f65-f765-48c6-925f-a16ba026fb1c"
      },
      "outputs": [
        {
          "name": "stdout",
          "output_type": "stream",
          "text": [
            "[0 1 2 3 4 5 6 7 8 9]\n",
            "\n",
            " Slicing values dengan step/interval sekian:\n",
            "[0 2 4 6 8]\n",
            "\n",
            " Slicing vdengan semua parameter:\n",
            "[2 4 6]\n"
          ]
        }
      ],
      "source": [
        "print(InSlice)\n",
        "#Slicing values dengan step/interval sekian....\n",
        "s6 = InSlice[::2]\n",
        "print(\"\\n Slicing values dengan step/interval sekian:\")\n",
        "print(s6)\n",
        "\n",
        "#Slicing dengan semua param\n",
        "s6 = InSlice[::2]\n",
        "print(\"\\n Slicing values dengan step/interval sekian:\")\n",
        "print(s6)"
      ]
    }
  ],
  "metadata": {
    "colab": {
      "provenance": []
    },
    "kernelspec": {
      "display_name": "Python 3",
      "name": "python3"
    },
    "language_info": {
      "name": "python"
    }
  },
  "nbformat": 4,
  "nbformat_minor": 0
}